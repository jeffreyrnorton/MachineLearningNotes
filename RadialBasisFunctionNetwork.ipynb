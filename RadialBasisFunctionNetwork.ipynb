{
  "nbformat": 4,
  "nbformat_minor": 0,
  "metadata": {
    "colab": {
      "name": "RadialBasisFunctionNetwork.ipynb",
      "version": "0.3.2",
      "provenance": [],
      "collapsed_sections": []
    },
    "kernelspec": {
      "name": "python3",
      "display_name": "Python 3"
    }
  },
  "cells": [
    {
      "cell_type": "markdown",
      "metadata": {
        "id": "view-in-github",
        "colab_type": "text"
      },
      "source": [
        "[View in Colaboratory](https://colab.research.google.com/github/jeffreyrnorton/MachineLearningNotes/blob/master/RadialBasisFunctionNetwork.ipynb)"
      ]
    },
    {
      "metadata": {
        "id": "ywTsFTgFYPB1",
        "colab_type": "text"
      },
      "cell_type": "markdown",
      "source": [
        "# Radial Basis Functions and Feed Forward Networks\n",
        "\n",
        "Radial basis function networks are *not* feed forward networks.  Feed forward networks are typically used for classification whereas radial bases function networks are used for *fitting* contiguous functions.\n",
        "\n",
        "In the case shown here, we will generate curve fits for functions."
      ]
    },
    {
      "metadata": {
        "id": "4onk9aCJQg-6",
        "colab_type": "code",
        "colab": {
          "base_uri": "https://localhost:8080/",
          "height": 34
        },
        "outputId": "20cf10e3-73cb-47fb-9a4b-830762f437ea"
      },
      "cell_type": "code",
      "source": [
        "import math\n",
        "import pandas as pd\n",
        "import numpy as np\n",
        "import seaborn as sns\n",
        "import matplotlib.pyplot as plt\n",
        "from sklearn.model_selection import train_test_split\n",
        "\n",
        "from IPython.display import SVG\n",
        "from keras.utils.vis_utils import model_to_dot\n",
        "\n",
        "import keras\n",
        "from keras.models import Sequential\n",
        "from keras.layers import Dense, Activation\n",
        "from keras import backend as K\n",
        "from keras.utils.generic_utils import get_custom_objects"
      ],
      "execution_count": 1,
      "outputs": [
        {
          "output_type": "stream",
          "text": [
            "Using TensorFlow backend.\n"
          ],
          "name": "stderr"
        }
      ]
    },
    {
      "metadata": {
        "id": "UVeqHlqOktK6",
        "colab_type": "text"
      },
      "cell_type": "markdown",
      "source": [
        "RBFs are really designed to work with continuous functions.  So one problem to consider is fitting (continuous) datasets.  For simplicity - we can simply just generate a dataset using some curve function like sin.  What's nice about using a real function is that we can generate what should be other data points with ease and test concepts like forcasting (predicting out of the original training range)."
      ]
    },
    {
      "metadata": {
        "id": "o90uTfDARds3",
        "colab_type": "code",
        "colab": {}
      },
      "cell_type": "code",
      "source": [
        "# Generate a data set from the function sin(2*pi*t)\n",
        "# Take the test set to be from -1 to 1 on 0.1\n",
        "ptrain_X = np.arange(-1.0, 1.0, 0.05)\n",
        "ptrain_Y = np.sin(2*math.pi*ptrain_X)\n",
        "\n",
        "# And for validation, let's create a somewhat overlapping\n",
        "# dataset, but are going to let this dataset range go to 2.\n",
        "ptest_X = np.arange(0.025, 2.025, 0.05)\n",
        "ptest_Y = np.sin(2*math.pi*ptest_X)"
      ],
      "execution_count": 0,
      "outputs": []
    },
    {
      "metadata": {
        "id": "ifCK1BHqSWZ9",
        "colab_type": "code",
        "colab": {
          "base_uri": "https://localhost:8080/",
          "height": 348
        },
        "outputId": "28e9dd0f-8e05-4e36-9732-81160bb92777"
      },
      "cell_type": "code",
      "source": [
        "sns.set(style=\"darkgrid\")\n",
        "\n",
        "# Set up the figure\n",
        "f, ax = plt.subplots(figsize=(8, 8))\n",
        "ax.set_aspect(\"equal\")\n",
        "\n",
        "# Draw the two density plots\n",
        "ax = sns.regplot(x=ptrain_X, y=ptrain_Y, fit_reg=False, color='blue')\n",
        "ax = sns.regplot(x=ptest_X, y=ptest_Y, fit_reg=False, color='red')"
      ],
      "execution_count": 3,
      "outputs": [
        {
          "output_type": "display_data",
          "data": {
            "image/png": "[encoded data removed]",
            "text/plain": [
              "<matplotlib.figure.Figure at 0x7fca80d9b0f0>"
            ]
          },
          "metadata": {
            "tags": []
          }
        }
      ]
    },
    {
      "metadata": {
        "id": "xnJI8yK3Y93B",
        "colab_type": "code",
        "colab": {}
      },
      "cell_type": "code",
      "source": [
        "# fix random seed for reproducibility\n",
        "seed = 155\n",
        "np.random.seed(seed)"
      ],
      "execution_count": 0,
      "outputs": []
    },
    {
      "metadata": {
        "id": "OOFVn98VpZP5",
        "colab_type": "text"
      },
      "cell_type": "markdown",
      "source": [
        "Keras doesn't provide RBF layers natively.  [Petra Vidnerova](https://github.com/PetraVidnerova/rbf_keras) does provide an RBF layer - this shows how to write custom layers in Keras."
      ]
    },
    {
      "metadata": {
        "id": "es9ukPefpXXP",
        "colab_type": "code",
        "colab": {}
      },
      "cell_type": "code",
      "source": [
        "from keras.initializers import Initializer\n",
        "import numpy as np \n",
        "\n",
        "class InitFromFile(Initializer):\n",
        "    \"\"\" Initialize the weights by loading from file.\n",
        "    # Arguments\n",
        "        filename: name of file, should by .npy file \n",
        "    \"\"\"\n",
        "    def __init__(self, filename):\n",
        "        self.filename = filename \n",
        "\n",
        "    def __call__(self, shape, dtype=None):\n",
        "        with open(self.filename, \"rb\") as f:\n",
        "            X = np.load(f)\n",
        "        assert shape == X.shape \n",
        "        return X \n",
        "\n",
        "    def get_config(self):\n",
        "        return {\n",
        "            'filename': self.filename\n",
        "        }"
      ],
      "execution_count": 0,
      "outputs": []
    },
    {
      "metadata": {
        "id": "mlgadc4ep8F5",
        "colab_type": "code",
        "colab": {}
      },
      "cell_type": "code",
      "source": [
        "import random \n",
        "from keras import backend as K\n",
        "from keras.engine.topology import Layer\n",
        "from keras.initializers import RandomUniform, Initializer, Orthogonal, Constant\n",
        "import numpy as np\n",
        "\n",
        "class InitCentersRandom(Initializer):\n",
        "    \"\"\" Initializer for initialization of centers of RBF network\n",
        "        as random samples from the given data set.\n",
        "    # Arguments\n",
        "        X: matrix, dataset to choose the centers from (random rows \n",
        "          are taken as centers)\n",
        "    \"\"\"\n",
        "    def __init__(self, X):\n",
        "        self.X = X \n",
        "\n",
        "    def __call__(self, shape, dtype=None):\n",
        "        assert shape[1] == self.X.shape[1]\n",
        "        idx = np.random.randint(self.X.shape[0], size=shape[0])\n",
        "        return self.X[idx,:]\n",
        "\n",
        "        \n",
        "class RBFLayer(Layer):\n",
        "    \"\"\" Layer of Gaussian RBF units. \n",
        "    # Example\n",
        " \n",
        "    ```python\n",
        "        model = Sequential()\n",
        "        model.add(RBFLayer(10,\n",
        "                           initializer=InitCentersRandom(X), \n",
        "                           betas=1.0,\n",
        "                           input_shape=(1,)))\n",
        "        model.add(Dense(1))\n",
        "    ```\n",
        "    \n",
        "    # Arguments\n",
        "        output_dim: number of hidden units (i.e. number of outputs of the layer)\n",
        "        initializer: instance of initiliazer to initialize centers\n",
        "        betas: float, initial value for betas \n",
        "    \"\"\"\n",
        "    def __init__(self, output_dim, initializer=None, betas=1.0, **kwargs):\n",
        "        self.output_dim = output_dim\n",
        "        self.init_betas = betas \n",
        "        if not initializer:\n",
        "            self.initializer = RandomUniform(0.0, 1.0)\n",
        "            #self.initializer = Orthogonal()\n",
        "        else:\n",
        "            self.initializer = initializer \n",
        "        super(RBFLayer, self).__init__(**kwargs)\n",
        "\n",
        "    def build(self, input_shape):\n",
        "        \n",
        "        self.centers = self.add_weight(name='centers', \n",
        "                                       shape=(self.output_dim, input_shape[1]),\n",
        "                                       initializer=self.initializer,\n",
        "                                       trainable=True)\n",
        "        self.betas = self.add_weight(name='betas',\n",
        "                                     shape=(self.output_dim,),\n",
        "                                     initializer=Constant(value=self.init_betas),\n",
        "                                     #initializer='ones',\n",
        "                                     trainable=True)\n",
        "            \n",
        "        super(RBFLayer, self).build(input_shape)  \n",
        "\n",
        "    def call(self, x):\n",
        "\n",
        "        C = K.expand_dims(self.centers)\n",
        "        H = K.transpose(C-K.transpose(x))\n",
        "        return K.exp( -self.betas * K.sum(H**2, axis=1))\n",
        "        \n",
        "        #C = self.centers[np.newaxis, :, :]\n",
        "        #X = x[:, np.newaxis, :]\n",
        "\n",
        "        #diffnorm = K.sum((C-X)**2, axis=-1)\n",
        "        #ret = K.exp( - self.betas * diffnorm)\n",
        "        #return ret \n",
        "\n",
        "    def compute_output_shape(self, input_shape):\n",
        "        return (input_shape[0], self.output_dim)\n",
        "\n",
        "\n",
        "    def get_config(self):\n",
        "        # have to define get_config to be able to use model_from_json\n",
        "        config = {\n",
        "            'output_dim': self.output_dim\n",
        "        }\n",
        "        base_config = super(RBFLayer, self).get_config()\n",
        "        return dict(list(base_config.items()) + list(config.items()))"
      ],
      "execution_count": 0,
      "outputs": []
    },
    {
      "metadata": {
        "id": "kJz4VQ2L-ARQ",
        "colab_type": "text"
      },
      "cell_type": "markdown",
      "source": [
        "End of Petra's code.\n",
        "\n",
        "Similar to our feed forward case, we write some helper functions.  First ```run_model``` will create a RBFN and fit it and calculate the fitting metrics (RMSE)."
      ]
    },
    {
      "metadata": {
        "id": "Vr8bkC95idg5",
        "colab_type": "code",
        "colab": {}
      },
      "cell_type": "code",
      "source": [
        "def run_model(X_train, Y_train, X_test, Y_test, hidden_layer_size, epochs=1000):\n",
        "    np.random.seed(seed)\n",
        "    model = Sequential() # create model\n",
        "    \n",
        "    # Create an RBF hidden layer - this uses the Gaussian as the closeness function.\n",
        "    model.add(RBFLayer(hidden_layer_size,\n",
        "                       initializer=InitCentersRandom(X_train), \n",
        "                       betas=2.0,\n",
        "                       input_shape=(1,))) # hidden layer\n",
        "    \n",
        "    model.add(Dense(1)) # output layer\n",
        "    # Default learning rate is 0.001.  For this problem, we can get very aggressive\n",
        "    # on the learning rate.\n",
        "    adamo = keras.optimizers.Adam(lr=0.01)\n",
        "    \n",
        "    # For regression (which this is closest to), use RMSE, not cross-entropy.\n",
        "    model.compile(loss='mean_squared_error',optimizer=adamo)\n",
        "    \n",
        "    # Fit the model\n",
        "    # verbose=0 suppresses the file writing message\n",
        "    # note that the fit method expects a list of callbacks\n",
        "    fitting_log={'loss':[], 'acc':[]}\n",
        "    \n",
        "    # Fit in a loop so we can track the test accuracy as we go.\n",
        "    for i in range(epochs):\n",
        "        results = model.fit(X_train, Y_train,epochs=1, verbose=0, batch_size=X_train.shape[0],\n",
        "                            initial_epoch=0)\n",
        "        fitting_log['loss'].append(results.history['loss'][0])\n",
        "        y_pred = model.predict(X_train)\n",
        "        sum = 0.0\n",
        "        for i in range(len(Y_train)):\n",
        "            sum += math.pow(Y_train[i]-y_pred[i],2)\n",
        "        fitting_log['acc'].append(math.sqrt(sum))\n",
        "        \n",
        "    # Evaluate the model on the test case to see how we did.\n",
        "    y_tpred = model.predict(X_test)\n",
        "    sum = 0.0\n",
        "    for i in range(len(Y_test)):\n",
        "        sum += math.pow(Y_test[i]-y_tpred[i],2)\n",
        "  \n",
        "    return model, fitting_log, math.sqrt(sum)"
      ],
      "execution_count": 0,
      "outputs": []
    },
    {
      "metadata": {
        "id": "qj7ggvVDkD_1",
        "colab_type": "text"
      },
      "cell_type": "markdown",
      "source": [
        "Plotter of loss and accuracy."
      ]
    },
    {
      "metadata": {
        "id": "dCVnhe3Jis8m",
        "colab_type": "code",
        "colab": {}
      },
      "cell_type": "code",
      "source": [
        "def plot_nn(fitted_log):\n",
        "    fig, (ax1, ax2) = plt.subplots(2, 1)\n",
        "    ax1.plot(range(len(fitted_log['loss'])), fitted_log['loss'],linestyle='-', color='blue',label='Training', lw=2)\n",
        "    ax2.plot(range(len(fitted_log['acc'])), fitted_log['acc'],linestyle='-', color='blue',label='Training', lw=2)\n",
        "    leg = ax1.legend(bbox_to_anchor=(0.7, 0.9), loc=2, borderaxespad=0.,fontsize=13)\n",
        "    ax1.set_xticklabels('')\n",
        "    #ax1.set_yscale('log')\n",
        "    ax2.set_xlabel('# Epochs',fontsize=14)\n",
        "    ax1.set_ylabel('Loss',fontsize=14)\n",
        "    ax2.set_ylabel('Accuracy',fontsize=14)\n",
        "    plt.show()"
      ],
      "execution_count": 0,
      "outputs": []
    },
    {
      "metadata": {
        "id": "F1afMNwr_IZG",
        "colab_type": "text"
      },
      "cell_type": "markdown",
      "source": [
        "Generates the output results."
      ]
    },
    {
      "metadata": {
        "id": "9GtYUEsUjPBa",
        "colab_type": "code",
        "colab": {}
      },
      "cell_type": "code",
      "source": [
        "def output_results(model, fitting_log, test_deviation):\n",
        "    # Print a summary of the model\n",
        "    print(model.summary())\n",
        "    # Print the fitting log\n",
        "    nepochs = len(fitting_log['loss'])\n",
        "    print('Training loss, accuracy:', [fitting_log['loss'][nepochs-2:nepochs-1], fitting_log['acc'][nepochs-2:nepochs-1]])\n",
        "    plot_nn(fitting_log)\n",
        "    print('Test set metric (RMSE): {}'.format(test_deviation))"
      ],
      "execution_count": 0,
      "outputs": []
    },
    {
      "metadata": {
        "id": "p0e8Njix_M5N",
        "colab_type": "text"
      },
      "cell_type": "markdown",
      "source": [
        "Properly shape the data."
      ]
    },
    {
      "metadata": {
        "id": "d6eSaifOn89n",
        "colab_type": "code",
        "colab": {}
      },
      "cell_type": "code",
      "source": [
        "train_X = np.transpose(np.reshape(ptrain_X, (1,-1)))\n",
        "train_Y = np.transpose(np.reshape(ptrain_Y, (1,-1)))\n",
        "test_X = np.transpose(np.reshape(ptest_X, (1,-1)))\n",
        "test_Y = np.transpose(np.reshape(ptest_Y, (1,-1)))"
      ],
      "execution_count": 0,
      "outputs": []
    },
    {
      "metadata": {
        "id": "-S5H4kDQ_RNz",
        "colab_type": "text"
      },
      "cell_type": "markdown",
      "source": [
        "Try a hidden layer with only five nodes."
      ]
    },
    {
      "metadata": {
        "id": "j-Tn0yjIj2IA",
        "colab_type": "code",
        "colab": {}
      },
      "cell_type": "code",
      "source": [
        "model_5, fitting_log_5, test_deviation_5 = run_model(train_X, train_Y, test_X, test_Y, 5, epochs=1000)"
      ],
      "execution_count": 0,
      "outputs": []
    },
    {
      "metadata": {
        "id": "heRdhd7cl-Yf",
        "colab_type": "code",
        "colab": {
          "base_uri": "https://localhost:8080/",
          "height": 600
        },
        "outputId": "3eb6334b-ca26-4746-fe63-d6b1556c3c59"
      },
      "cell_type": "code",
      "source": [
        "output_results(model_5, fitting_log_5, test_deviation_5)"
      ],
      "execution_count": 12,
      "outputs": [
        {
          "output_type": "stream",
          "text": [
            "_________________________________________________________________\n",
            "Layer (type)                 Output Shape              Param #   \n",
            "=================================================================\n",
            "rbf_layer_1 (RBFLayer)       (None, 5)                 10        \n",
            "_________________________________________________________________\n",
            "dense_1 (Dense)              (None, 1)                 6         \n",
            "=================================================================\n",
            "Total params: 16\n",
            "Trainable params: 16\n",
            "Non-trainable params: 0\n",
            "_________________________________________________________________\n",
            "None\n",
            "Training loss, accuracy: [[0.022989800199866295], [0.9586609799286891]]\n"
          ],
          "name": "stdout"
        },
        {
          "output_type": "display_data",
          "data": {
            "image/png": "[encoded data removed]",
            "text/plain": [
              "<matplotlib.figure.Figure at 0x7fca7b0ce400>"
            ]
          },
          "metadata": {
            "tags": []
          }
        },
        {
          "output_type": "stream",
          "text": [
            "Test set metric (RMSE): 5.473407712971606\n"
          ],
          "name": "stdout"
        }
      ]
    },
    {
      "metadata": {
        "id": "AozQPrfn_t6f",
        "colab_type": "text"
      },
      "cell_type": "markdown",
      "source": [
        "What happens with a hidden layer with 100 nodes?"
      ]
    },
    {
      "metadata": {
        "id": "efwdkp9EmNoM",
        "colab_type": "code",
        "colab": {}
      },
      "cell_type": "code",
      "source": [
        "model_100, fitting_log_100, test_deviation_100 = run_model(train_X, train_Y, test_X, test_Y, 100, epochs=1000)"
      ],
      "execution_count": 0,
      "outputs": []
    },
    {
      "metadata": {
        "id": "GuSkG76jmZkZ",
        "colab_type": "code",
        "colab": {
          "base_uri": "https://localhost:8080/",
          "height": 600
        },
        "outputId": "e06c2d24-58d4-4226-a0e7-5763367c2cf9"
      },
      "cell_type": "code",
      "source": [
        "output_results(model_100, fitting_log_100, test_deviation_100)"
      ],
      "execution_count": 14,
      "outputs": [
        {
          "output_type": "stream",
          "text": [
            "_________________________________________________________________\n",
            "Layer (type)                 Output Shape              Param #   \n",
            "=================================================================\n",
            "rbf_layer_2 (RBFLayer)       (None, 100)               200       \n",
            "_________________________________________________________________\n",
            "dense_2 (Dense)              (None, 1)                 101       \n",
            "=================================================================\n",
            "Total params: 301\n",
            "Trainable params: 301\n",
            "Non-trainable params: 0\n",
            "_________________________________________________________________\n",
            "None\n",
            "Training loss, accuracy: [[4.057537444168702e-05], [0.04010245596364748]]\n"
          ],
          "name": "stdout"
        },
        {
          "output_type": "display_data",
          "data": {
            "image/png": "[encoded data removed]",
            "text/plain": [
              "<matplotlib.figure.Figure at 0x7fca7ad31cf8>"
            ]
          },
          "metadata": {
            "tags": []
          }
        },
        {
          "output_type": "stream",
          "text": [
            "Test set metric (RMSE): 6.1616748829707815\n"
          ],
          "name": "stdout"
        }
      ]
    },
    {
      "metadata": {
        "id": "L3o-1jhU8Oc7",
        "colab_type": "text"
      },
      "cell_type": "markdown",
      "source": [
        "As the test metric is going up from the previous example with 5 nodes - we strongly suspect overfitting.  Try somewhere between 5 and 100 nodes on the hidden layer."
      ]
    },
    {
      "metadata": {
        "id": "B8aADdPi86zi",
        "colab_type": "code",
        "colab": {}
      },
      "cell_type": "code",
      "source": [
        "model_50, fitting_log_50, test_deviation_50 = run_model(train_X, train_Y, test_X, test_Y, 50, epochs=1000)"
      ],
      "execution_count": 0,
      "outputs": []
    },
    {
      "metadata": {
        "id": "XOsTB2mQ86zn",
        "colab_type": "code",
        "colab": {
          "base_uri": "https://localhost:8080/",
          "height": 600
        },
        "outputId": "f8d22b47-895a-4ab1-ef42-ffb835048784"
      },
      "cell_type": "code",
      "source": [
        "output_results(model_50, fitting_log_50, test_deviation_50)"
      ],
      "execution_count": 16,
      "outputs": [
        {
          "output_type": "stream",
          "text": [
            "_________________________________________________________________\n",
            "Layer (type)                 Output Shape              Param #   \n",
            "=================================================================\n",
            "rbf_layer_3 (RBFLayer)       (None, 50)                100       \n",
            "_________________________________________________________________\n",
            "dense_3 (Dense)              (None, 1)                 51        \n",
            "=================================================================\n",
            "Total params: 151\n",
            "Trainable params: 151\n",
            "Non-trainable params: 0\n",
            "_________________________________________________________________\n",
            "None\n",
            "Training loss, accuracy: [[0.0011114602675661445], [0.2104329715179053]]\n"
          ],
          "name": "stdout"
        },
        {
          "output_type": "display_data",
          "data": {
            "image/png": "[encoded data removed]",
            "text/plain": [
              "<matplotlib.figure.Figure at 0x7fca80d88fd0>"
            ]
          },
          "metadata": {
            "tags": []
          }
        },
        {
          "output_type": "stream",
          "text": [
            "Test set metric (RMSE): 3.5142146806925783\n"
          ],
          "name": "stdout"
        }
      ]
    },
    {
      "metadata": {
        "id": "nonn0TnV_5mP",
        "colab_type": "text"
      },
      "cell_type": "markdown",
      "source": [
        "That is very good - both the training and testing metrics are less than the other versions we tried."
      ]
    }
  ]
}